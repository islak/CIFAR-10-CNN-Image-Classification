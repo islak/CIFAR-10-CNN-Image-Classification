{
  "cells": [
    {
      "attachments": {},
      "cell_type": "markdown",
      "metadata": {
        "id": "NegAkmLZKITL"
      },
      "source": [
        "# CNN with CIFAR-10\n",
        "Training several convolutional neural networks to classify CIFAR-10 images. "
      ]
    },
    {
      "cell_type": "code",
      "execution_count": 1,
      "metadata": {
        "id": "UQ7vc7_hKITR"
      },
      "outputs": [],
      "source": [
        "import matplotlib.pyplot as plt\n",
        "import pandas as pd\n",
        "%matplotlib inline\n",
        "%config InlineBackend.figure_format=\"retina\"\n",
        "import numpy as np\n",
        "import random\n",
        "import torch\n",
        "from torch import nn, optim\n",
        "import math\n",
        "from IPython import display\n",
        "import torchvision.datasets as datasets\n",
        "import torchvision.transforms as transforms\n",
        "from torch.utils.data import TensorDataset\n",
        "import pdb"
      ]
    },
    {
      "attachments": {},
      "cell_type": "markdown",
      "metadata": {
        "id": "_9paVLUhMk1Y"
      },
      "source": [
        "#### Setting a Seed for Random Number Generators in Python and PyTorch"
      ]
    },
    {
      "cell_type": "code",
      "execution_count": 2,
      "metadata": {
        "colab": {
          "base_uri": "https://localhost:8080/"
        },
        "id": "Hz8XTp_zMkLu",
        "outputId": "abb72b00-b045-4142-f12a-26df03cd1472"
      },
      "outputs": [
        {
          "data": {
            "text/plain": [
              "<torch._C.Generator at 0x7fba43e45e70>"
            ]
          },
          "execution_count": 2,
          "metadata": {},
          "output_type": "execute_result"
        }
      ],
      "source": [
        "seed = 42\n",
        "random.seed(seed)\n",
        "torch.manual_seed(seed)"
      ]
    },
    {
      "attachments": {},
      "cell_type": "markdown",
      "metadata": {
        "id": "ZVLfTcsJKITR"
      },
      "source": [
        "#### Import dataset\n"
      ]
    },
    {
      "cell_type": "code",
      "execution_count": 3,
      "metadata": {
        "colab": {
          "base_uri": "https://localhost:8080/"
        },
        "id": "K6PznhssKITR",
        "outputId": "7f360a7e-1acb-4d4a-8188-5b6c0a67c198"
      },
      "outputs": [
        {
          "name": "stdout",
          "output_type": "stream",
          "text": [
            "Downloading https://www.cs.toronto.edu/~kriz/cifar-10-python.tar.gz to ./data/cifar-10-python.tar.gz\n"
          ]
        },
        {
          "name": "stderr",
          "output_type": "stream",
          "text": [
            "100%|██████████| 170498071/170498071 [01:35<00:00, 1792703.23it/s]\n"
          ]
        },
        {
          "name": "stdout",
          "output_type": "stream",
          "text": [
            "Extracting ./data/cifar-10-python.tar.gz to ./data\n",
            "Files already downloaded and verified\n"
          ]
        }
      ],
      "source": [
        "from torch.utils.data import random_split\n",
        "transform = transforms.ToTensor()\n",
        "train_dataset = datasets.CIFAR10(root='./data', train=True, download=True, transform=transform)\n",
        "\n",
        "# determine size of validation and training datasets\n",
        "val_size = int(0.1 * len(train_dataset))\n",
        "train_size = len(train_dataset) - val_size\n",
        "\n",
        "# split dataset into training and validation \n",
        "train_dataset, val_dataset = random_split(train_dataset, [train_size, val_size])\n",
        "test_dataset = datasets.CIFAR10(root='./data', train=False, download=True, transform=transform)"
      ]
    },
    {
      "attachments": {},
      "cell_type": "markdown",
      "metadata": {
        "id": "HDP7KP2NfLup"
      },
      "source": [
        "#### Building Data Loaders"
      ]
    },
    {
      "cell_type": "code",
      "execution_count": 4,
      "metadata": {
        "id": "7VBb_YqNfFvy"
      },
      "outputs": [],
      "source": [
        "\n",
        "from torch.utils.data import DataLoader\n",
        "batch_size = 128\n",
        "trainloader = DataLoader(train_dataset, batch_size=batch_size, shuffle=True)\n",
        "val_loader = DataLoader(val_dataset, batch_size=batch_size, shuffle=False)\n",
        "testloader = DataLoader(test_dataset, batch_size=batch_size, shuffle=False)\n",
        "\n",
        "# assert the size of the train dataset\n",
        "assert len(train_dataset) == 45000\n",
        "assert train_dataset[0][0].shape == torch.Size([3, 32, 32])\n",
        "\n",
        "# assert the size of the validation dataset\n",
        "assert len(val_dataset) == 5000\n",
        "assert val_dataset[0][0].shape == torch.Size([3, 32, 32])\n",
        "\n",
        "# assert the size of the test dataset\n",
        "assert len(test_dataset) == 10000\n",
        "assert test_dataset[0][0].shape == torch.Size([3, 32, 32])"
      ]
    },
    {
      "cell_type": "markdown",
      "metadata": {
        "id": "ek_nIbhhkMry"
      },
      "source": [
        "**Visulize one image from CIFAR**"
      ]
    },
    {
      "cell_type": "code",
      "execution_count": 5,
      "metadata": {
        "colab": {
          "base_uri": "https://localhost:8080/",
          "height": 406
        },
        "id": "L3fbeVE1_I16",
        "outputId": "3c906f2d-996e-4630-b8f9-dd7fdec203e0"
      },
      "outputs": [
        {
          "data": {
            "image/png": "[encoded data removed]",
            "text/plain": [
              "<Figure size 640x480 with 1 Axes>"
            ]
          },
          "metadata": {
            "image/png": {
              "height": 389,
              "width": 389
            }
          },
          "output_type": "display_data"
        }
      ],
      "source": [
        "image, _ = trainloader.dataset.__getitem__(0)\n",
        "image = image.permute(1,2,0)\n",
        "plt.imshow(image, cmap=plt.cm.binary)\n",
        "plt.axis('off');"
      ]
    },
    {
      "attachments": {},
      "cell_type": "markdown",
      "metadata": {
        "id": "eFpoh2XBKITT"
      },
      "source": [
        "#### Building a neural network."
      ]
    },
    {
      "cell_type": "code",
      "execution_count": 6,
      "metadata": {
        "id": "hAajjlzRK3LO"
      },
      "outputs": [],
      "source": [
        "device = torch.device(\"cuda:0\" if torch.cuda.is_available() else \"cpu\")"
      ]
    },
    {
      "cell_type": "code",
      "execution_count": 7,
      "metadata": {
        "colab": {
          "base_uri": "https://localhost:8080/"
        },
        "id": "Y-7IE80mKITT",
        "outputId": "d4a5e9d3-3b27-4ac0-f179-15eb8a88f0fb"
      },
      "outputs": [
        {
          "name": "stdout",
          "output_type": "stream",
          "text": [
            "Model_3(\n",
            "  (conv1): Conv2d(3, 32, kernel_size=(3, 3), stride=(1, 1))\n",
            "  (conv2): Conv2d(32, 64, kernel_size=(3, 3), stride=(1, 1))\n",
            "  (fc1): Linear(in_features=2304, out_features=1024, bias=True)\n",
            "  (fc2): Linear(in_features=1024, out_features=10, bias=True)\n",
            ")\n"
          ]
        }
      ],
      "source": [
        "\n",
        "import torch.nn.functional as F\n",
        "class Model_3(nn.Module):\n",
        "    def __init__(self):\n",
        "        super(Model_3, self).__init__()\n",
        "        self.conv1 = nn.Conv2d(3, 32, 3)\n",
        "        self.conv2 = nn.Conv2d(32, 64, 3)\n",
        "        self.fc1 = nn.Linear(64 * 6 * 6, 1024)  \n",
        "        self.fc2 = nn.Linear(1024, 10)\n",
        "\n",
        "    def forward(self, x):\n",
        "        x = self.conv1(x)\n",
        "        x = F.relu(x)\n",
        "        x = F.max_pool2d(x, 2)\n",
        "        x = self.conv2(x)\n",
        "        x = F.relu(x)\n",
        "        x = F.max_pool2d(x, 2)\n",
        "        x = x.view(x.size(0), -1)\n",
        "        x = self.fc1(x)\n",
        "        x = F.relu(x)\n",
        "        x = self.fc2(x)\n",
        "        return x\n",
        "\n",
        "\n",
        "model = Model_3()\n",
        "print(model)\n"
      ]
    },
    {
      "attachments": {},
      "cell_type": "markdown",
      "metadata": {
        "id": "dt27nBzJKITU"
      },
      "source": [
        "#### Step-4: Training the model"
      ]
    },
    {
      "cell_type": "code",
      "execution_count": 10,
      "metadata": {
        "colab": {
          "base_uri": "https://localhost:8080/"
        },
        "id": "egGS7HGEKITV",
        "outputId": "f1ba9eda-c3e0-4d45-f71a-e6aae02e38e3"
      },
      "outputs": [
        {
          "name": "stdout",
          "output_type": "stream",
          "text": [
            "Train Epoch [1/10], Train Loss: 0.0179, Train Acc: 12%\n",
            "\n",
            "Validation set: Average loss: 2.2702, Accuracy: 914/5000 (18%)\n",
            "\n",
            "Train Epoch [2/10], Train Loss: 0.0171, Train Acc: 23%\n",
            "\n",
            "Validation set: Average loss: 2.0955, Accuracy: 1259/5000 (25%)\n",
            "\n",
            "Train Epoch [3/10], Train Loss: 0.0157, Train Acc: 28%\n",
            "\n",
            "Validation set: Average loss: 2.0027, Accuracy: 1348/5000 (27%)\n",
            "\n",
            "Train Epoch [4/10], Train Loss: 0.0153, Train Acc: 30%\n",
            "\n",
            "Validation set: Average loss: 1.9307, Accuracy: 1497/5000 (30%)\n",
            "\n",
            "Train Epoch [5/10], Train Loss: 0.0148, Train Acc: 33%\n",
            "\n",
            "Validation set: Average loss: 1.8662, Accuracy: 1720/5000 (34%)\n",
            "\n",
            "Train Epoch [6/10], Train Loss: 0.0142, Train Acc: 36%\n",
            "\n",
            "Validation set: Average loss: 1.7998, Accuracy: 1744/5000 (35%)\n",
            "\n",
            "Train Epoch [7/10], Train Loss: 0.0137, Train Acc: 38%\n",
            "\n",
            "Validation set: Average loss: 1.7284, Accuracy: 1859/5000 (37%)\n",
            "\n",
            "Train Epoch [8/10], Train Loss: 0.0131, Train Acc: 40%\n",
            "\n",
            "Validation set: Average loss: 1.6475, Accuracy: 2066/5000 (41%)\n",
            "\n",
            "Train Epoch [9/10], Train Loss: 0.0126, Train Acc: 43%\n",
            "\n",
            "Validation set: Average loss: 1.6221, Accuracy: 2092/5000 (42%)\n",
            "\n",
            "Train Epoch [10/10], Train Loss: 0.0122, Train Acc: 44%\n",
            "\n",
            "Validation set: Average loss: 1.5760, Accuracy: 2189/5000 (44%)\n",
            "\n"
          ]
        }
      ],
      "source": [
        "def evaluate_model(model, dataloader, is_test=False):\n",
        "  #Evaluation\n",
        "\n",
        "  # Set model to evaluation mode\n",
        "  model.eval()\n",
        "\n",
        "  with torch.no_grad():\n",
        "    correct = 0\n",
        "    loss = 0\n",
        "\n",
        "    criterion = torch.nn.CrossEntropyLoss(reduction='none')\n",
        "\n",
        "    for data, target in dataloader:\n",
        "        data, target = data.to(device), target.to(device)\n",
        "        outputs = model(data)\n",
        "        \n",
        "        loss += torch.sum(criterion(outputs, target)).item()\n",
        "        \n",
        "        pred = outputs.data.max(1, keepdim=True)[1] # get the index of the max log-probability                                                                 \n",
        "        correct += pred.eq(target.data.view_as(pred)).cpu().sum().item()\n",
        "\n",
        "    loss /= len(dataloader.dataset)\n",
        "    accuracy = 100. * correct / len(dataloader.dataset)\n",
        "    print('\\n{} set: Average loss: {:.4f}, Accuracy: {}/{} ({:.0f}%)\\n'.format(\n",
        "        \"Test\" if is_test else \"Validation\",\n",
        "        loss, correct, len(dataloader.dataset),\n",
        "        accuracy))\n",
        "  # Set model back to training mode\n",
        "  model.train()\n",
        "\n",
        "def train_model(model, train_loader, valid_loader, optimizer, criterion, num_epochs):\n",
        "    for epoch in range(num_epochs):\n",
        "        model.train()\n",
        "        train_loss = 0\n",
        "        train_accuracy = 0\n",
        "        \n",
        "        for data, target in train_loader:\n",
        "            data, target = data.to(device), target.to(device)\n",
        "            optimizer.zero_grad()\n",
        "            outputs = model(data)\n",
        "            loss = criterion(outputs, target)\n",
        "            loss.backward()\n",
        "            optimizer.step()\n",
        "            train_loss += loss.item()\n",
        "            _, predicted = outputs.max(1)\n",
        "            train_accuracy += predicted.eq(target).sum().item()\n",
        "        \n",
        "        train_loss /= len(train_loader.dataset)\n",
        "        train_accuracy = 100. * train_accuracy / len(train_loader.dataset)\n",
        "        \n",
        "        print('Train Epoch [{}/{}], Train Loss: {:.4f}, Train Acc: {:.0f}%'.format(\n",
        "            epoch+1, num_epochs, train_loss, train_accuracy))\n",
        "        \n",
        "        evaluate_model(model, valid_loader)\n",
        "\n",
        "\n",
        "# set hyperparameters\n",
        "learning_rate = 0.01\n",
        "num_epochs = 10\n",
        "model = Model_3().to(device)\n",
        "\n",
        "#define arguments\n",
        "criterion = nn.CrossEntropyLoss()\n",
        "optimizer = optim.SGD(model.parameters(), lr=learning_rate)\n",
        "\n",
        "# Train model\n",
        "train_model(model, trainloader, val_loader, optimizer, criterion, num_epochs)"
      ]
    },
    {
      "cell_type": "markdown",
      "metadata": {
        "id": "aTg6snZ4fu2U"
      },
      "source": [
        "**Set hyper-parameters**"
      ]
    },
    {
      "cell_type": "code",
      "execution_count": 11,
      "metadata": {
        "id": "BJdfqGOafyK0"
      },
      "outputs": [],
      "source": [
        "learning_rate = 0.01\n",
        "epochs = 10\n",
        "batch_size = 128"
      ]
    },
    {
      "cell_type": "code",
      "execution_count": 12,
      "metadata": {
        "colab": {
          "base_uri": "https://localhost:8080/"
        },
        "id": "72FMIYO1nu-8",
        "outputId": "f82163e1-bdfd-40df-aaf0-61a8648981d8"
      },
      "outputs": [
        {
          "name": "stdout",
          "output_type": "stream",
          "text": [
            "Train Epoch [1/10], Train Loss: 0.0179, Train Acc: 17%\n",
            "\n",
            "Validation set: Average loss: 2.2720, Accuracy: 1113/5000 (22%)\n",
            "\n",
            "Train Epoch [2/10], Train Loss: 0.0172, Train Acc: 23%\n",
            "\n",
            "Validation set: Average loss: 2.0763, Accuracy: 1309/5000 (26%)\n",
            "\n",
            "Train Epoch [3/10], Train Loss: 0.0157, Train Acc: 27%\n",
            "\n",
            "Validation set: Average loss: 1.9776, Accuracy: 1478/5000 (30%)\n",
            "\n",
            "Train Epoch [4/10], Train Loss: 0.0152, Train Acc: 30%\n",
            "\n",
            "Validation set: Average loss: 1.9451, Accuracy: 1521/5000 (30%)\n",
            "\n",
            "Train Epoch [5/10], Train Loss: 0.0147, Train Acc: 33%\n",
            "\n",
            "Validation set: Average loss: 1.8494, Accuracy: 1752/5000 (35%)\n",
            "\n",
            "Train Epoch [6/10], Train Loss: 0.0141, Train Acc: 36%\n",
            "\n",
            "Validation set: Average loss: 1.7980, Accuracy: 1747/5000 (35%)\n",
            "\n",
            "Train Epoch [7/10], Train Loss: 0.0135, Train Acc: 39%\n",
            "\n",
            "Validation set: Average loss: 1.6816, Accuracy: 1989/5000 (40%)\n",
            "\n",
            "Train Epoch [8/10], Train Loss: 0.0130, Train Acc: 41%\n",
            "\n",
            "Validation set: Average loss: 1.6195, Accuracy: 2131/5000 (43%)\n",
            "\n",
            "Train Epoch [9/10], Train Loss: 0.0125, Train Acc: 43%\n",
            "\n",
            "Validation set: Average loss: 1.5489, Accuracy: 2237/5000 (45%)\n",
            "\n",
            "Train Epoch [10/10], Train Loss: 0.0120, Train Acc: 45%\n",
            "\n",
            "Validation set: Average loss: 1.5880, Accuracy: 2156/5000 (43%)\n",
            "\n"
          ]
        }
      ],
      "source": [
        "model_step_3 = Model_3()\n",
        "model_step_3.to(device)\n",
        "\n",
        "\n",
        "optimizer = torch.optim.SGD(model_step_3.parameters(), lr=learning_rate)\n",
        "train_model(model_step_3, trainloader, val_loader, optimizer, criterion, epochs)"
      ]
    },
    {
      "cell_type": "code",
      "execution_count": 13,
      "metadata": {
        "colab": {
          "base_uri": "https://localhost:8080/"
        },
        "id": "BTq0j4GpOvyU",
        "outputId": "a1e7b074-78e7-4704-cb96-22a0ac48b3e4"
      },
      "outputs": [
        {
          "name": "stdout",
          "output_type": "stream",
          "text": [
            "\n",
            "Test set: Average loss: 1.5696, Accuracy: 4382/10000 (44%)\n",
            "\n"
          ]
        }
      ],
      "source": [
        "# Evaluation\n",
        "evaluate_model(model_step_3, testloader, is_test=True)"
      ]
    },
    {
      "attachments": {},
      "cell_type": "markdown",
      "metadata": {
        "id": "urGP_6ZJKITV"
      },
      "source": [
        "####  Regularization"
      ]
    },
    {
      "cell_type": "code",
      "execution_count": 14,
      "metadata": {
        "colab": {
          "base_uri": "https://localhost:8080/"
        },
        "id": "vlIUR4fgKITV",
        "outputId": "272e4688-9610-4c8b-d389-8c05fc34d30b"
      },
      "outputs": [
        {
          "name": "stdout",
          "output_type": "stream",
          "text": [
            "Train Epoch [1/10], Train Loss: 0.0151, Train Acc: 30%\n",
            "\n",
            "Validation set: Average loss: 1.6788, Accuracy: 2020/5000 (40%)\n",
            "\n",
            "Train Epoch [2/10], Train Loss: 0.0124, Train Acc: 43%\n",
            "\n",
            "Validation set: Average loss: 1.4486, Accuracy: 2426/5000 (49%)\n",
            "\n",
            "Train Epoch [3/10], Train Loss: 0.0111, Train Acc: 49%\n",
            "\n",
            "Validation set: Average loss: 1.3261, Accuracy: 2577/5000 (52%)\n",
            "\n",
            "Train Epoch [4/10], Train Loss: 0.0103, Train Acc: 53%\n",
            "\n",
            "Validation set: Average loss: 1.2548, Accuracy: 2744/5000 (55%)\n",
            "\n",
            "Train Epoch [5/10], Train Loss: 0.0096, Train Acc: 56%\n",
            "\n",
            "Validation set: Average loss: 1.1973, Accuracy: 2887/5000 (58%)\n",
            "\n",
            "Train Epoch [6/10], Train Loss: 0.0088, Train Acc: 60%\n",
            "\n",
            "Validation set: Average loss: 1.1416, Accuracy: 2995/5000 (60%)\n",
            "\n",
            "Train Epoch [7/10], Train Loss: 0.0082, Train Acc: 63%\n",
            "\n",
            "Validation set: Average loss: 1.1012, Accuracy: 3039/5000 (61%)\n",
            "\n",
            "Train Epoch [8/10], Train Loss: 0.0075, Train Acc: 66%\n",
            "\n",
            "Validation set: Average loss: 1.0434, Accuracy: 3118/5000 (62%)\n",
            "\n",
            "Train Epoch [9/10], Train Loss: 0.0069, Train Acc: 69%\n",
            "\n",
            "Validation set: Average loss: 1.0149, Accuracy: 3209/5000 (64%)\n",
            "\n",
            "Train Epoch [10/10], Train Loss: 0.0062, Train Acc: 72%\n",
            "\n",
            "Validation set: Average loss: 0.9934, Accuracy: 3249/5000 (65%)\n",
            "\n"
          ]
        }
      ],
      "source": [
        "\n",
        "class Model_5(nn.Module):\n",
        "    def __init__(self):\n",
        "        super(Model_5, self).__init__()\n",
        "        self.conv1 = nn.Conv2d(3, 32, kernel_size=3)\n",
        "        self.conv2 = nn.Conv2d(32, 64, kernel_size=3)\n",
        "        self.fc1 = nn.Linear(64 * 14 * 14, 1024)\n",
        "        self.dropout = nn.Dropout(0.5)  \n",
        "        self.fc2 = nn.Linear(1024, 10)\n",
        "\n",
        "    def forward(self, x):\n",
        "        x = F.relu(self.conv1(x))\n",
        "        x = F.relu(self.conv2(x))\n",
        "        x = F.avg_pool2d(x, 2)  \n",
        "        x = x.view(x.size(0), -1) \n",
        "        x = F.relu(self.fc1(x))\n",
        "        x = self.dropout(x)  \n",
        "        x = self.fc2(x)\n",
        "        return x\n",
        "\n",
        "\n",
        "model_step_5 = Model_5()\n",
        "model_step_5.to(device)\n",
        "optimizer = torch.optim.SGD(model_step_5.parameters(), lr=learning_rate, momentum=0.9)  \n",
        "criterion = nn.CrossEntropyLoss()\n",
        "num_epochs = 10\n",
        "train_model(model_step_5, trainloader, val_loader, optimizer, criterion, num_epochs)\n",
        "\n"
      ]
    },
    {
      "cell_type": "code",
      "execution_count": 15,
      "metadata": {
        "colab": {
          "base_uri": "https://localhost:8080/"
        },
        "id": "dcK68GU7NlrG",
        "outputId": "99fe1a6a-8ccf-4d1a-c1d5-d6e576ee8271"
      },
      "outputs": [
        {
          "name": "stdout",
          "output_type": "stream",
          "text": [
            "\n",
            "Test set: Average loss: 0.9941, Accuracy: 6512/10000 (65%)\n",
            "\n"
          ]
        }
      ],
      "source": [
        "# Evaluation\n",
        "evaluate_model(model_step_5, testloader, is_test=True)"
      ]
    },
    {
      "attachments": {},
      "cell_type": "markdown",
      "metadata": {
        "id": "cGn8p6_wKITV"
      },
      "source": [
        "#### Deeper neural network"
      ]
    },
    {
      "cell_type": "code",
      "execution_count": 16,
      "metadata": {
        "colab": {
          "base_uri": "https://localhost:8080/"
        },
        "id": "R1JC-NoEKITW",
        "outputId": "3b0b2994-903e-4ca7-e388-126376dcfd4e"
      },
      "outputs": [
        {
          "name": "stdout",
          "output_type": "stream",
          "text": [
            "Train Epoch [1/10], Train Loss: 0.0170, Train Acc: 19%\n",
            "\n",
            "Validation set: Average loss: 1.9777, Accuracy: 1405/5000 (28%)\n",
            "\n",
            "Train Epoch [2/10], Train Loss: 0.0144, Train Acc: 33%\n",
            "\n",
            "Validation set: Average loss: 1.6641, Accuracy: 1893/5000 (38%)\n",
            "\n",
            "Train Epoch [3/10], Train Loss: 0.0120, Train Acc: 44%\n",
            "\n",
            "Validation set: Average loss: 1.4064, Accuracy: 2444/5000 (49%)\n",
            "\n",
            "Train Epoch [4/10], Train Loss: 0.0106, Train Acc: 51%\n",
            "\n",
            "Validation set: Average loss: 1.2802, Accuracy: 2726/5000 (55%)\n",
            "\n",
            "Train Epoch [5/10], Train Loss: 0.0095, Train Acc: 57%\n",
            "\n",
            "Validation set: Average loss: 1.1799, Accuracy: 2899/5000 (58%)\n",
            "\n",
            "Train Epoch [6/10], Train Loss: 0.0086, Train Acc: 61%\n",
            "\n",
            "Validation set: Average loss: 1.0331, Accuracy: 3202/5000 (64%)\n",
            "\n",
            "Train Epoch [7/10], Train Loss: 0.0077, Train Acc: 65%\n",
            "\n",
            "Validation set: Average loss: 0.9599, Accuracy: 3301/5000 (66%)\n",
            "\n",
            "Train Epoch [8/10], Train Loss: 0.0070, Train Acc: 69%\n",
            "\n",
            "Validation set: Average loss: 0.8727, Accuracy: 3476/5000 (70%)\n",
            "\n",
            "Train Epoch [9/10], Train Loss: 0.0063, Train Acc: 72%\n",
            "\n",
            "Validation set: Average loss: 0.8396, Accuracy: 3561/5000 (71%)\n",
            "\n",
            "Train Epoch [10/10], Train Loss: 0.0056, Train Acc: 75%\n",
            "\n",
            "Validation set: Average loss: 0.7824, Accuracy: 3635/5000 (73%)\n",
            "\n"
          ]
        }
      ],
      "source": [
        "\n",
        "import torch.nn.functional as F\n",
        "\n",
        "class Model_6(nn.Module):\n",
        "    def __init__(self):\n",
        "        super(Model_6, self).__init__()\n",
        "        self.conv1 = nn.Conv2d(3, 32, kernel_size=3)\n",
        "        self.conv2 = nn.Conv2d(32, 64, kernel_size=3)\n",
        "        self.pool1 = nn.MaxPool2d(2)\n",
        "        self.conv3 = nn.Conv2d(64, 128, kernel_size=3)\n",
        "        self.conv4 = nn.Conv2d(128, 128, kernel_size=3)\n",
        "        self.pool2 = nn.MaxPool2d(2)\n",
        "        self.fc1 = nn.Linear(128 * 5 * 5, 1024)\n",
        "        self.dropout = nn.Dropout(0.5)\n",
        "        self.fc2 = nn.Linear(1024, 10)\n",
        "\n",
        "    def forward(self, x):\n",
        "        x = F.relu(self.conv1(x))\n",
        "        x = F.relu(self.conv2(x))\n",
        "        x = self.pool1(x)\n",
        "        x = F.relu(self.conv3(x))\n",
        "        x = F.relu(self.conv4(x))\n",
        "        x = self.pool2(x)\n",
        "        x = x.view(x.size(0), -1)\n",
        "        x = F.relu(self.fc1(x))\n",
        "        x = self.dropout(x)\n",
        "        x = self.fc2(x)\n",
        "        return x\n",
        "\n",
        "model_step_6 = Model_6()\n",
        "model_step_6.to(device)\n",
        "\n",
        "optimizer = torch.optim.SGD(model_step_6.parameters(), lr=learning_rate, momentum=0.9)\n",
        "criterion = nn.CrossEntropyLoss()\n",
        "num_epochs = 10\n",
        "\n",
        "train_model(model_step_6, trainloader, val_loader, optimizer, criterion, num_epochs)"
      ]
    },
    {
      "cell_type": "code",
      "execution_count": 17,
      "metadata": {
        "colab": {
          "base_uri": "https://localhost:8080/"
        },
        "id": "ldf0M6JHnryK",
        "outputId": "6181f12c-6179-4bd4-e822-8254c9531a55"
      },
      "outputs": [
        {
          "name": "stdout",
          "output_type": "stream",
          "text": [
            "\n",
            "Test set: Average loss: 0.7970, Accuracy: 7198/10000 (72%)\n",
            "\n"
          ]
        }
      ],
      "source": [
        "# Evaluation\n",
        "evaluate_model(model_step_6, testloader, is_test=True)"
      ]
    },
    {
      "attachments": {},
      "cell_type": "markdown",
      "metadata": {
        "id": "NLm_Vh-1KITW"
      },
      "source": [
        "#### Trying another activation function"
      ]
    },
    {
      "cell_type": "code",
      "execution_count": 18,
      "metadata": {
        "colab": {
          "base_uri": "https://localhost:8080/"
        },
        "id": "QKGOjvceKITW",
        "outputId": "a470cfe4-6985-43c0-d2c3-4e9588cac57d"
      },
      "outputs": [
        {
          "name": "stdout",
          "output_type": "stream",
          "text": [
            "Train Epoch [1/10], Train Loss: 0.0150, Train Acc: 30%\n",
            "\n",
            "Validation set: Average loss: 1.6124, Accuracy: 2047/5000 (41%)\n",
            "\n",
            "Train Epoch [2/10], Train Loss: 0.0112, Train Acc: 48%\n",
            "\n",
            "Validation set: Average loss: 1.3122, Accuracy: 2698/5000 (54%)\n",
            "\n",
            "Train Epoch [3/10], Train Loss: 0.0096, Train Acc: 56%\n",
            "\n",
            "Validation set: Average loss: 1.1681, Accuracy: 2944/5000 (59%)\n",
            "\n",
            "Train Epoch [4/10], Train Loss: 0.0085, Train Acc: 62%\n",
            "\n",
            "Validation set: Average loss: 1.0497, Accuracy: 3117/5000 (62%)\n",
            "\n",
            "Train Epoch [5/10], Train Loss: 0.0078, Train Acc: 65%\n",
            "\n",
            "Validation set: Average loss: 0.9660, Accuracy: 3274/5000 (65%)\n",
            "\n",
            "Train Epoch [6/10], Train Loss: 0.0071, Train Acc: 68%\n",
            "\n",
            "Validation set: Average loss: 0.8795, Accuracy: 3491/5000 (70%)\n",
            "\n",
            "Train Epoch [7/10], Train Loss: 0.0065, Train Acc: 71%\n",
            "\n",
            "Validation set: Average loss: 0.8293, Accuracy: 3577/5000 (72%)\n",
            "\n",
            "Train Epoch [8/10], Train Loss: 0.0060, Train Acc: 73%\n",
            "\n",
            "Validation set: Average loss: 0.8362, Accuracy: 3546/5000 (71%)\n",
            "\n",
            "Train Epoch [9/10], Train Loss: 0.0055, Train Acc: 75%\n",
            "\n",
            "Validation set: Average loss: 0.7924, Accuracy: 3677/5000 (74%)\n",
            "\n",
            "Train Epoch [10/10], Train Loss: 0.0052, Train Acc: 77%\n",
            "\n",
            "Validation set: Average loss: 0.7780, Accuracy: 3656/5000 (73%)\n",
            "\n"
          ]
        }
      ],
      "source": [
        "\n",
        "class Model_7(nn.Module):\n",
        "    def __init__(self):\n",
        "        super(Model_7, self).__init__()\n",
        "        self.conv1 = nn.Conv2d(3, 32, kernel_size=3)\n",
        "        self.conv2 = nn.Conv2d(32, 64, kernel_size=3)\n",
        "        self.pool1 = nn.MaxPool2d(2)\n",
        "        self.conv3 = nn.Conv2d(64, 128, kernel_size=3)\n",
        "        self.conv4 = nn.Conv2d(128, 128, kernel_size=3)\n",
        "        self.pool2 = nn.MaxPool2d(2)\n",
        "        self.fc1 = nn.Linear(128 * 5 * 5, 1024)\n",
        "        self.dropout = nn.Dropout(0.5)\n",
        "        self.fc2 = nn.Linear(1024, 10)\n",
        "\n",
        "    def forward(self, x):\n",
        "        x = F.elu(self.conv1(x))\n",
        "        x = F.elu(self.conv2(x))\n",
        "        x = self.pool1(x)\n",
        "        x = F.elu(self.conv3(x))\n",
        "        x = F.elu(self.conv4(x))\n",
        "        x = self.pool2(x)\n",
        "        x = x.view(x.size(0), -1)\n",
        "        x = F.elu(self.fc1(x))\n",
        "        x = self.dropout(x)\n",
        "        x = self.fc2(x)\n",
        "        return x\n",
        "\n",
        "\n",
        "model_step_7 = Model_7()\n",
        "model_step_7.to(device)\n",
        "\n",
        "optimizer = torch.optim.SGD(model_step_7.parameters(), lr=learning_rate, momentum=0.9)\n",
        "criterion = nn.CrossEntropyLoss()\n",
        "num_epochs = 10\n",
        "\n",
        "train_model(model_step_7, trainloader, val_loader, optimizer, criterion, num_epochs)\n"
      ]
    },
    {
      "cell_type": "code",
      "execution_count": 20,
      "metadata": {
        "colab": {
          "base_uri": "https://localhost:8080/"
        },
        "id": "SNMyBMv_nsit",
        "outputId": "ba103a50-ffdf-46be-8f26-8c9da12ca8f6"
      },
      "outputs": [
        {
          "name": "stdout",
          "output_type": "stream",
          "text": [
            "\n",
            "Test set: Average loss: 0.7831, Accuracy: 7377/10000 (74%)\n",
            "\n"
          ]
        }
      ],
      "source": [
        "# Evaluation\n",
        "evaluate_model(model_step_7, testloader, is_test=True)"
      ]
    }
  ],
  "metadata": {
    "accelerator": "GPU",
    "colab": {
      "provenance": []
    },
    "gpuClass": "standard",
    "kernelspec": {
      "display_name": "Python 3",
      "language": "python",
      "name": "python3"
    },
    "language_info": {
      "codemirror_mode": {
        "name": "ipython",
        "version": 3
      },
      "file_extension": ".py",
      "mimetype": "text/x-python",
      "name": "python",
      "nbconvert_exporter": "python",
      "pygments_lexer": "ipython3",
      "version": "3.11.3 (v3.11.3:f3909b8bc8, Apr  4 2023, 20:12:10) [Clang 13.0.0 (clang-1300.0.29.30)]"
    },
    "orig_nbformat": 4,
    "vscode": {
      "interpreter": {
        "hash": "aee8b7b246df8f9039afb4144a1f6fd8d2ca17a180786b69acc140d282b71a49"
      }
    }
  },
  "nbformat": 4,
  "nbformat_minor": 0
}
